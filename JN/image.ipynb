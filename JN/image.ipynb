{
 "cells": [
  {
   "cell_type": "code",
   "execution_count": 1,
   "metadata": {},
   "outputs": [],
   "source": [
    "from scipy.io import wavfile\n",
    "import numpy as np\n",
    "import matplotlib.pyplot as plt\n",
    "import sounddevice as sd\n",
    "import random\n",
    "import string\n",
    "from Crypto.Cipher import AES"
   ]
  },
  {
   "cell_type": "code",
   "execution_count": 2,
   "metadata": {},
   "outputs": [],
   "source": [
    "with open('../images/input.jpg', 'rb') as fd:\n",
    "    contents = fd.read()"
   ]
  },
  {
   "cell_type": "code",
   "execution_count": 3,
   "metadata": {},
   "outputs": [],
   "source": [
    "AES_KEY = ''.join(random.choice(string.ascii_uppercase + string.ascii_lowercase + string.digits) for x in range(32))\n",
    "\n",
    "AES_IV = ''.join(random.choice(string.ascii_uppercase + string.ascii_lowercase + string.digits) for x in range(16))"
   ]
  },
  {
   "cell_type": "code",
   "execution_count": 4,
   "metadata": {},
   "outputs": [],
   "source": [
    "encryptor = AES.new(AES_KEY.encode(\"utf-8\"), AES.MODE_CFB, AES_IV.encode(\"utf-8\"))\n",
    "encrypted_img = encryptor.encrypt(contents)"
   ]
  },
  {
   "cell_type": "code",
   "execution_count": 5,
   "metadata": {},
   "outputs": [
    {
     "name": "stdout",
     "output_type": "stream",
     "text": [
      "A file titled 'encrypted_img_file.wav' is generated which is the encrypted audio to be communicated\n"
     ]
    }
   ],
   "source": [
    "with open('../images/encrypted_img_file.jpg', 'wb') as fd:\n",
    "    fd.write(encrypted_img)\n",
    "print(\"A file titled 'encrypted_img_file.wav' is generated which is the encrypted audio to be communicated\")"
   ]
  },
  {
   "cell_type": "code",
   "execution_count": 6,
   "metadata": {},
   "outputs": [],
   "source": [
    "with open('../images/encrypted_img_file.jpg', 'rb') as fd:\n",
    "    contents = fd.read()"
   ]
  },
  {
   "cell_type": "code",
   "execution_count": 7,
   "metadata": {},
   "outputs": [],
   "source": [
    "decryptor = AES.new(AES_KEY.encode(\"utf-8\"), AES.MODE_CFB, AES_IV.encode(\"utf-8\"))\n",
    "decrypted_img = decryptor.decrypt(contents)"
   ]
  },
  {
   "cell_type": "code",
   "execution_count": 8,
   "metadata": {},
   "outputs": [],
   "source": [
    "with open('../images/decrypted_img_file.jpg', 'wb') as fd:\n",
    "    fd.write(decrypted_img)"
   ]
  }
 ],
 "metadata": {
  "kernelspec": {
   "display_name": "Python 3.10.0 64-bit",
   "language": "python",
   "name": "python3"
  },
  "language_info": {
   "codemirror_mode": {
    "name": "ipython",
    "version": 3
   },
   "file_extension": ".py",
   "mimetype": "text/x-python",
   "name": "python",
   "nbconvert_exporter": "python",
   "pygments_lexer": "ipython3",
   "version": "3.10.0"
  },
  "orig_nbformat": 4,
  "vscode": {
   "interpreter": {
    "hash": "a501d62606d670f36bc11045ffb4d78a66ffe44e9885cee55b88540e985cfa4a"
   }
  }
 },
 "nbformat": 4,
 "nbformat_minor": 2
}
