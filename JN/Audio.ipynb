{
 "cells": [
  {
   "cell_type": "markdown",
   "metadata": {},
   "source": [
    "# Importing dependencies"
   ]
  },
  {
   "cell_type": "code",
   "execution_count": 13,
   "metadata": {
    "scrolled": true
   },
   "outputs": [],
   "source": [
    "from scipy.io import wavfile\n",
    "import numpy as np\n",
    "import matplotlib.pyplot as plt\n",
    "import sounddevice as sd\n",
    "import random\n",
    "import string\n",
    "from Crypto.Cipher import AES\n",
    "import noisereduce as nr\n",
    "from ipywebrtc import AudioRecorder, CameraStream\n",
    "import torchaudio\n",
    "from IPython.display import Audio"
   ]
  },
  {
   "cell_type": "markdown",
   "metadata": {},
   "source": [
    "## Taking input"
   ]
  },
  {
   "cell_type": "code",
   "execution_count": 14,
   "metadata": {
    "scrolled": false
   },
   "outputs": [
    {
     "data": {
      "text/plain": [
       "Text(0.5, 1.0, 'Original Audio Plot')"
      ]
     },
     "execution_count": 14,
     "metadata": {},
     "output_type": "execute_result"
    },
    {
     "data": {
      "image/png": "[encoded data removed]",
      "text/plain": [
       "<Figure size 432x288 with 1 Axes>"
      ]
     },
     "metadata": {
      "needs_background": "light"
     },
     "output_type": "display_data"
    }
   ],
   "source": [
    "wav_loc = '../audio/audio.wav'\n",
    "fs, data = wavfile.read(wav_loc)\n",
    "plt.plot(data)            # fs = sampling frequency = 44.1kHz\n",
    "plt.title(\"Original Audio Plot\")"
   ]
  },
  {
   "cell_type": "code",
   "execution_count": 15,
   "metadata": {},
   "outputs": [],
   "source": [
    "rate, data = wavfile.read(wav_loc)"
   ]
  },
  {
   "cell_type": "code",
   "execution_count": 16,
   "metadata": {},
   "outputs": [],
   "source": [
    "# perform noise reduction\n",
    "reduced_noise = nr.reduce_noise(y=data, sr=rate)\n",
    "wavfile.write(\"../audio/wav_reduced_noise.wav\", rate, reduced_noise)"
   ]
  },
  {
   "cell_type": "code",
   "execution_count": 17,
   "metadata": {},
   "outputs": [],
   "source": [
    "with open('../audio/wav_reduced_noise.wav', 'rb') as fd:\n",
    "    contents = fd.read()"
   ]
  },
  {
   "cell_type": "markdown",
   "metadata": {},
   "source": [
    "## Playing that sound"
   ]
  },
  {
   "cell_type": "code",
   "execution_count": 18,
   "metadata": {},
   "outputs": [],
   "source": [
    "sd.play(data, fs)"
   ]
  },
  {
   "cell_type": "markdown",
   "metadata": {},
   "source": [
    "## Getting ready with AES"
   ]
  },
  {
   "cell_type": "code",
   "execution_count": 19,
   "metadata": {},
   "outputs": [],
   "source": [
    "AES_KEY = ''.join(random.choice(string.ascii_uppercase + string.ascii_lowercase + string.digits) for x in range(32))\n",
    "\n",
    "AES_IV = ''.join(random.choice(string.ascii_uppercase + string.ascii_lowercase + string.digits) for x in range(16))"
   ]
  },
  {
   "cell_type": "code",
   "execution_count": 20,
   "metadata": {},
   "outputs": [
    {
     "name": "stdout",
     "output_type": "stream",
     "text": [
      "AES Key is  gtL0P3UZqXKkxji8vLgOwRazXNAiHv5T\n",
      "AES Initialization vector is  pGQqhy8chmrBi44s\n"
     ]
    }
   ],
   "source": [
    "# (encrypt/decrypt, the key size can be 128/192/256 bits.)\n",
    "print(\"AES Key is \", AES_KEY) \n",
    "\n",
    "# used to start some iterated process\n",
    "# (In particular, it ensures that encrypting the same message twice yields two completely different ciphertexts, which is necessary in order for the encryption scheme to be semantically secure.)\n",
    "print(\"AES Initialization vector is \", AES_IV) "
   ]
  },
  {
   "cell_type": "markdown",
   "metadata": {},
   "source": [
    "## Encrpytion of audio file"
   ]
  },
  {
   "cell_type": "code",
   "execution_count": 21,
   "metadata": {},
   "outputs": [
    {
     "name": "stdout",
     "output_type": "stream",
     "text": [
      "b'RIFF\\xa4\\x94\\t\\x00WAVEfmt \\x10\\x00\\x00\\x00'\n"
     ]
    }
   ],
   "source": [
    "print(contents[:20])"
   ]
  },
  {
   "cell_type": "code",
   "execution_count": 22,
   "metadata": {},
   "outputs": [],
   "source": [
    "encryptor = AES.new(AES_KEY.encode(\"utf-8\"), AES.MODE_CFB, AES_IV.encode(\"utf-8\"))\n",
    "encrypted_audio = encryptor.encrypt(contents)"
   ]
  },
  {
   "cell_type": "code",
   "execution_count": 23,
   "metadata": {},
   "outputs": [
    {
     "name": "stdout",
     "output_type": "stream",
     "text": [
      "b'\\xbd\\xbat\\xed\\x80\\x15B\\xf7(\\x14\\xad\\xcc\\x9dMv\\x8d.\\x07\\x9c#'\n"
     ]
    }
   ],
   "source": [
    "print(encrypted_audio[:20])"
   ]
  },
  {
   "cell_type": "markdown",
   "metadata": {},
   "source": [
    "## Saving the encrypted file"
   ]
  },
  {
   "cell_type": "code",
   "execution_count": 24,
   "metadata": {},
   "outputs": [
    {
     "name": "stdout",
     "output_type": "stream",
     "text": [
      "A file titled 'encrypted_audio_file.wav' is generated which is the encrypted audio to be communicated\n"
     ]
    }
   ],
   "source": [
    "with open('../audio/encrypted_audio_file.wav', 'wb') as fd:\n",
    "    fd.write(encrypted_audio)\n",
    "print(\"A file titled 'encrypted_audio_file.wav' is generated which is the encrypted audio to be communicated\")"
   ]
  },
  {
   "cell_type": "code",
   "execution_count": 25,
   "metadata": {},
   "outputs": [
    {
     "name": "stdout",
     "output_type": "stream",
     "text": [
      "<class 'bytes'>\n"
     ]
    }
   ],
   "source": [
    "print(type(encrypted_audio))"
   ]
  },
  {
   "cell_type": "markdown",
   "metadata": {},
   "source": [
    "## Loading"
   ]
  },
  {
   "cell_type": "code",
   "execution_count": 26,
   "metadata": {},
   "outputs": [],
   "source": [
    "with open('../audio/encrypted_audio_file.wav', 'rb') as fd:\n",
    "    contents = fd.read()"
   ]
  },
  {
   "cell_type": "markdown",
   "metadata": {},
   "source": [
    "## Decryption of data"
   ]
  },
  {
   "cell_type": "code",
   "execution_count": 27,
   "metadata": {},
   "outputs": [],
   "source": [
    "decryptor = AES.new(AES_KEY.encode(\"utf-8\"), AES.MODE_CFB, AES_IV.encode(\"utf-8\"))\n",
    "decrypted_audio = decryptor.decrypt(contents)"
   ]
  },
  {
   "cell_type": "code",
   "execution_count": 28,
   "metadata": {},
   "outputs": [],
   "source": [
    "with open('../audio/decrypted_audio_file.wav', 'wb') as fd:\n",
    "    fd.write(decrypted_audio)"
   ]
  },
  {
   "cell_type": "code",
   "execution_count": 29,
   "metadata": {},
   "outputs": [
    {
     "name": "stdout",
     "output_type": "stream",
     "text": [
      "b'RIFF\\xa4\\x94\\t\\x00WAVEfmt \\x10\\x00\\x00\\x00'\n"
     ]
    }
   ],
   "source": [
    "print(decrypted_audio[:20])"
   ]
  },
  {
   "cell_type": "code",
   "execution_count": 30,
   "metadata": {
    "scrolled": true
   },
   "outputs": [
    {
     "data": {
      "image/png": "[encoded data removed]",
      "text/plain": [
       "<Figure size 432x288 with 1 Axes>"
      ]
     },
     "metadata": {
      "needs_background": "light"
     },
     "output_type": "display_data"
    }
   ],
   "source": [
    "fs, data = wavfile.read('../audio/decrypted_audio_file.wav')\n",
    "plt.plot(data)            # fs = sampling frequency = 44.1kHz\n",
    "plt.title(\"Decrypted Audio Plot\")\n",
    "data_1 = np.asarray(data, dtype = np.int32)"
   ]
  },
  {
   "cell_type": "code",
   "execution_count": 31,
   "metadata": {},
   "outputs": [],
   "source": [
    "sd.play(data, fs)"
   ]
  },
  {
   "cell_type": "markdown",
   "metadata": {},
   "source": [
    "AES : Points to remember\n",
    "    - AES is a block cipher(Block cipher Uses confusion(hides ct-k) as well as diffusion(hides ct-pt))\n",
    "    - The key size can be 128/192/256 bits.\n",
    "    - Encrypts data in blocks of 128 bits each."
   ]
  }
 ],
 "metadata": {
  "kernelspec": {
   "display_name": "Python 3.10.0 ('venv': venv)",
   "language": "python",
   "name": "python3"
  },
  "language_info": {
   "codemirror_mode": {
    "name": "ipython",
    "version": 3
   },
   "file_extension": ".py",
   "mimetype": "text/x-python",
   "name": "python",
   "nbconvert_exporter": "python",
   "pygments_lexer": "ipython3",
   "version": "3.10.0"
  },
  "vscode": {
   "interpreter": {
    "hash": "0ac888ff6a3941caa56a51e10683c3cc87bae7df11a6be243f10e5fa697ec4cb"
   }
  }
 },
 "nbformat": 4,
 "nbformat_minor": 4
}
